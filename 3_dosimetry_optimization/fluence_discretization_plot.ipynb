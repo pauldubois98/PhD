{
 "cells": [
  {
   "cell_type": "code",
   "execution_count": null,
   "metadata": {},
   "outputs": [],
   "source": [
    "import numpy as np\n",
    "import matplotlib.pyplot as plt\n",
    "from mpl_toolkits.axisartist.axislines import AxesZero\n",
    "from matplotlib.colors import LinearSegmentedColormap\n"
   ]
  },
  {
   "cell_type": "code",
   "execution_count": null,
   "metadata": {},
   "outputs": [],
   "source": [
    "M = 0.725\n",
    "N = 100\n",
    "b = [M] * 0 * N + list(np.linspace(M, 0, N)) + [0] * N * 2\n",
    "g = [M] * 1 * N + list(np.linspace(M, 0, N)) + [0] * N * 1\n",
    "r = [M] * 2 * N + list(np.linspace(M, 0, N)) + [0] * N * 0\n",
    "hot_grey = LinearSegmentedColormap.from_list(name='hot_grey',colors=np.array([r,g,b]).T)\n",
    "plt.colormaps.register(cmap=hot_grey)"
   ]
  },
  {
   "cell_type": "code",
   "execution_count": null,
   "metadata": {},
   "outputs": [],
   "source": [
    "x = np.linspace(-2,2, 100)\n",
    "bx = np.linspace(-2,2, 20)\n",
    "y = np.linspace(-2,2, 100)\n",
    "by = np.linspace(-2,2, 20)\n",
    "X, Y = np.meshgrid(x, y)\n",
    "BX, BY = np.meshgrid(bx, by)\n",
    "\n",
    "def dist2(x, y, x0=0, y0=0):\n",
    "    return (x-x0)**2 + (y-y0)**2\n",
    "def bump(x, y, x0=0, y0=0, c=1):\n",
    "    return np.exp(-c*dist2(x, y, x0, y0))\n",
    "def flu(x, y):\n",
    "    return 1.25 * bump(x, y, -0.6, 0.25, 3) + bump(x, y, 0.6, -0.25, 4)\n",
    "\n",
    "Z = flu(X, Y)\n",
    "B = flu(BX, BY)"
   ]
  },
  {
   "cell_type": "code",
   "execution_count": null,
   "metadata": {},
   "outputs": [],
   "source": [
    "def get_color(val):\n",
    "    return plt.get_cmap('hot_r')(val/Z.max())\n",
    "def get_color_alpha(val):\n",
    "    r,g,b,a = get_color(val)\n",
    "    return (r,g,b, 0.1)"
   ]
  },
  {
   "cell_type": "code",
   "execution_count": null,
   "metadata": {},
   "outputs": [],
   "source": [
    "x = np.linspace(-2,2, 100)\n",
    "y = np.linspace(-2,2, 100)\n",
    "ly = np.linspace(-2,2, 20)\n",
    "X, Y = np.meshgrid(x, y)\n",
    "LX, LY = np.meshgrid(x, ly)\n",
    "\n",
    "def dist2(x, y, x0=0, y0=0):\n",
    "    return (x-x0)**2 + (y-y0)**2\n",
    "def bump(x, y, x0=0, y0=0, c=1):\n",
    "    return np.exp(-c*dist2(x, y, x0, y0))\n",
    "def flu(x, y):\n",
    "    return 1.25 * bump(x, y, -0.6, 0.25, 3) + bump(x, y, 0.6, -0.25, 4)\n",
    "\n",
    "Z = flu(X, Y)\n",
    "L = flu(LX, LY)\n",
    "L_ = Z.copy()\n",
    "for i in range(L_.shape[0]):\n",
    "    L_[i] = L[i//(len(L_)//len(L))]\n"
   ]
  },
  {
   "cell_type": "markdown",
   "metadata": {},
   "source": [
    "---"
   ]
  },
  {
   "cell_type": "code",
   "execution_count": null,
   "metadata": {},
   "outputs": [],
   "source": [
    "plt.figure().add_subplot(axes_class=AxesZero)\n",
    "plt.imshow(Z[::-1], cmap='hot_r', interpolation='bilinear', extent=(-2,2,-2,2))\n",
    "plt.xticks([])\n",
    "plt.yticks([])\n",
    "plt.ylabel('$y$')\n",
    "plt.xlabel('$x$')\n",
    "plt.gca().axis[\"left\"].set_axisline_style(\"-|>\")\n",
    "plt.gca().axis[\"bottom\"].set_axisline_style(\"-|>\")\n",
    "plt.gca().axis[\"top\"].set_visible(False)\n",
    "plt.gca().axis[\"right\"].set_visible(False)\n",
    "# plt.title('Continuous fluence map')\n",
    "# plt.savefig('fluence_continuous_2D.pdf', bbox_inches='tight')\n",
    "# plt.savefig('fluence_continuous_2D.png', bbox_inches='tight')\n",
    "plt.show()"
   ]
  },
  {
   "cell_type": "code",
   "execution_count": null,
   "metadata": {},
   "outputs": [],
   "source": [
    "plt.figure().add_subplot(axes_class=AxesZero)\n",
    "plt.imshow(L_[::-1], cmap='hot_r', interpolation='none', extent=(-2,2,-2,2))\n",
    "plt.xticks([])\n",
    "plt.yticks([])\n",
    "plt.ylabel('$y$')\n",
    "plt.xlabel('$x$')\n",
    "plt.gca().axis[\"left\"].set_axisline_style(\"-|>\")\n",
    "plt.gca().axis[\"bottom\"].set_axisline_style(\"-|>\")\n",
    "plt.gca().axis[\"top\"].set_visible(False)\n",
    "plt.gca().axis[\"right\"].set_visible(False)\n",
    "# plt.title('Leaf sequenced fluence map')\n",
    "# plt.savefig('fluence_leaf_sequenced_2D.svg', bbox_inches='tight')\n",
    "# plt.savefig('fluence_leaf_sequenced_2D.pdf', bbox_inches='tight')\n",
    "plt.show()"
   ]
  },
  {
   "cell_type": "code",
   "execution_count": null,
   "metadata": {},
   "outputs": [],
   "source": [
    "plt.figure().add_subplot(axes_class=AxesZero)\n",
    "plt.imshow(B[::-1], cmap='hot_r', interpolation='none', extent=(-2,2,-2,2))\n",
    "plt.xticks([])\n",
    "plt.yticks([])\n",
    "plt.ylabel('$y$')\n",
    "plt.xlabel('$x$')\n",
    "plt.gca().axis[\"left\"].set_axisline_style(\"-|>\")\n",
    "plt.gca().axis[\"bottom\"].set_axisline_style(\"-|>\")\n",
    "plt.gca().axis[\"top\"].set_visible(False)\n",
    "plt.gca().axis[\"right\"].set_visible(False)\n",
    "# plt.savefig('fluence_discrete_2D.pdf', bbox_inches='tight')\n",
    "# plt.savefig('fluence_discrete_2D.png', bbox_inches='tight')\n",
    "plt.show()"
   ]
  },
  {
   "cell_type": "code",
   "execution_count": null,
   "metadata": {},
   "outputs": [],
   "source": [
    "plt.figure().add_subplot(1,1,1, projection='3d')\n",
    "plt.gca().plot_surface(X, Y, Z, cmap='hot_grey')\n",
    "plt.gca().xaxis.line.set_color((0.0, 0.0, 0.0, 0.0))\n",
    "plt.xticks([])\n",
    "plt.xlabel('$x$')\n",
    "plt.gca().yaxis.line.set_color((0.0, 0.0, 0.0, 0.0))\n",
    "plt.yticks([])\n",
    "plt.ylabel('$y$')\n",
    "plt.gca().set_zlabel('') # ('fluence')\n",
    "plt.gca().zaxis.line.set_color((0.0, 0.0, 0.0, 0.0))\n",
    "plt.gca().set_zticks([])\n",
    "plt.gca().view_init(40, 290)\n",
    "# plt.savefig('fluence_continuous_3D.pdf', bbox_inches='tight')\n",
    "# plt.savefig('fluence_continuous_3D.svg', bbox_inches='tight')\n",
    "plt.show()"
   ]
  },
  {
   "cell_type": "code",
   "execution_count": null,
   "metadata": {},
   "outputs": [],
   "source": [
    "plt.figure().add_subplot(1,1,1, projection='3d')\n",
    "plt.gca().plot_surface(X, Y, Z, cmap='hot_grey', zorder=1)\n",
    "colors = [(0,0.5,0,1) if (v<0.1 or v>0.8) else (0,0.5,0,0.2) for i,v in enumerate(x)]\n",
    "for i in range(len(x)-1):\n",
    "    plt.gca().plot(x[i:i+2], np.zeros(2), flu(x[i:i+2],0)+0.01, c=colors[i], linewidth=3, zorder=10)\n",
    "\n",
    "plt.gca().xaxis.line.set_color((0.0, 0.0, 0.0, 0.0))\n",
    "plt.xticks([])\n",
    "plt.xlabel('$x$')\n",
    "plt.gca().yaxis.line.set_color((0.0, 0.0, 0.0, 0.0))\n",
    "plt.yticks([])\n",
    "plt.ylabel('$y$')\n",
    "plt.gca().set_zlabel('') # ('fluence')\n",
    "plt.gca().zaxis.line.set_color((0.0, 0.0, 0.0, 0.0))\n",
    "plt.gca().set_zticks([])\n",
    "plt.gca().view_init(40, 290)\n",
    "# plt.savefig('fluence_continuous_3D_line.pdf', bbox_inches='tight')\n",
    "# plt.savefig('fluence_continuous_3D_line.svg', bbox_inches='tight')\n",
    "plt.show()"
   ]
  },
  {
   "cell_type": "code",
   "execution_count": null,
   "metadata": {},
   "outputs": [],
   "source": [
    "plt.figure().add_subplot(1,1,1, projection='3d')\n",
    "for i in range(L.shape[0]):\n",
    "    for j in range(L.shape[1]):\n",
    "        t = (0,0,0,0)\n",
    "        c = get_color(L[i,j])\n",
    "        ca = get_color_alpha(L[i,j])\n",
    "        cs = (t,c,t,t,t,ca) # (-Z, +Z, -Y, +Y, -X, +X)\n",
    "        plt.gca().bar3d(LX[i,j], LY[i,j], 0, 4/len(LX[0]), 4/len(LX), L[i,j], color=cs)\n",
    "\n",
    "plt.xlabel('$x$')\n",
    "plt.gca().xaxis.line.set_color((0.0, 0.0, 0.0, 0.0))\n",
    "plt.xticks([])\n",
    "plt.ylabel('$y$')\n",
    "plt.gca().yaxis.line.set_color((0.0, 0.0, 0.0, 0.0))\n",
    "plt.yticks([])\n",
    "plt.gca().set_zlabel('') # ('fluence')\n",
    "plt.gca().zaxis.line.set_color((0.0, 0.0, 0.0, 0.0))\n",
    "plt.gca().set_zticks([])\n",
    "plt.gca().view_init(40, 290)\n",
    "# plt.title('Leaf sequenced fluence map')\n",
    "# plt.savefig('fluence_leaf_sequenced_3D.pdf', bbox_inches='tight')\n",
    "# plt.savefig('fluence_leaf_sequenced_3D.svg', bbox_inches='tight')\n",
    "plt.show()"
   ]
  },
  {
   "cell_type": "code",
   "execution_count": null,
   "metadata": {},
   "outputs": [],
   "source": [
    "plt.figure().add_subplot(1,1,1, projection='3d')\n",
    "for i in range(B.shape[0]):\n",
    "    for j in range(B.shape[1]):\n",
    "        t = (0,0,0,0)\n",
    "        c = get_color(B[i,j])\n",
    "        ca = get_color_alpha(B[i,j])\n",
    "        cs = (c,c,ca,t,t,ca) # (-Z, +Z, -Y, +Y, -X, +X)\n",
    "        plt.gca().bar3d(BX[i,j], BY[i,j], 0, 4/len(BX[0]), 4/len(BX), B[i,j], color=cs)\n",
    "plt.gca().xaxis.line.set_color((0.0, 0.0, 0.0, 0.0))\n",
    "plt.xticks([])\n",
    "plt.xlabel('$x$')\n",
    "plt.gca().yaxis.line.set_color((0.0, 0.0, 0.0, 0.0))\n",
    "plt.yticks([])\n",
    "plt.ylabel('$y$')\n",
    "plt.gca().set_zlabel('') # ('fluence')\n",
    "plt.gca().zaxis.line.set_color((0.0, 0.0, 0.0, 0.0))\n",
    "plt.gca().set_zticks([])\n",
    "plt.gca().view_init(40, 290)\n",
    "plt.title('Discrete fluence map')\n",
    "# plt.savefig('fluence_discrete_3D.pdf', bbox_inches='tight')\n",
    "# plt.savefig('fluence_discrete_3D.svg', bbox_inches='tight')\n",
    "plt.show()"
   ]
  },
  {
   "cell_type": "code",
   "execution_count": null,
   "metadata": {},
   "outputs": [],
   "source": [
    "# plt.figure().add_subplot(1,1,1, projection='3d')\n",
    "# plt.gca().plot_surface(X, Y, L_, cmap='hot_grey', cstride=1, rstride=1)\n",
    "# plt.xlabel('$x$')\n",
    "# plt.gca().xaxis.line.set_color((0.0, 0.0, 0.0, 0.0))\n",
    "# plt.xticks([])\n",
    "# plt.ylabel('$y$')\n",
    "# plt.gca().yaxis.line.set_color((0.0, 0.0, 0.0, 0.0))\n",
    "# plt.yticks([])\n",
    "# plt.gca().set_zlabel('') # ('fluence')\n",
    "# plt.gca().zaxis.line.set_color((0.0, 0.0, 0.0, 0.0))\n",
    "# plt.gca().set_zticks([])\n",
    "# ax.view_init(40, 290)\n",
    "# plt.title('Leaf sequenced fluence map')\n",
    "# plt.show()"
   ]
  }
 ],
 "metadata": {
  "kernelspec": {
   "display_name": "Python 3",
   "language": "python",
   "name": "python3"
  },
  "language_info": {
   "codemirror_mode": {
    "name": "ipython",
    "version": 3
   },
   "file_extension": ".py",
   "mimetype": "text/x-python",
   "name": "python",
   "nbconvert_exporter": "python",
   "pygments_lexer": "ipython3",
   "version": "3.11.4"
  }
 },
 "nbformat": 4,
 "nbformat_minor": 2
}
