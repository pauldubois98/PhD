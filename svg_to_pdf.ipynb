{
 "cells": [
  {
   "cell_type": "code",
   "execution_count": 1,
   "metadata": {},
   "outputs": [],
   "source": [
    "import os\n",
    "import subprocess\n"
   ]
  },
  {
   "cell_type": "code",
   "execution_count": 2,
   "metadata": {},
   "outputs": [],
   "source": [
    "IGNORED_FILES = [\n",
    "    \"atom.svg\",\n",
    "    \"atom_incident_photon.svg\",\n",
    "    \"example_3d_doses-raw.svg\",\n",
    "    \"example_bixels-raw.svg\",\n",
    "    \"example_dvh-raw.svg\",\n",
    "]\n",
    "IGNORED_FOLDERS = [\n",
    "    \".git\",\n",
    "]"
   ]
  },
  {
   "cell_type": "code",
   "execution_count": 3,
   "metadata": {},
   "outputs": [],
   "source": [
    "def do_folder(folder):\n",
    "    print(\"\\tProcessing folder \" + folder)\n",
    "    for file in os.listdir(folder):\n",
    "        full_path = os.path.join(folder, file)\n",
    "        if os.path.isdir(full_path):\n",
    "            if file in IGNORED_FOLDERS:\n",
    "                print(\"\\tIgnoring \" + full_path)\n",
    "            else:\n",
    "                do_folder(os.path.join(full_path))\n",
    "        else:\n",
    "            if file.endswith(\".svg\"):\n",
    "                if os.path.exists(full_path.replace(\".svg\", \".pdf\")):\n",
    "                    print(\"Skipping \" + full_path)\n",
    "                elif file in IGNORED_FILES:\n",
    "                    print(\"Ignoring \" + full_path)\n",
    "                else:\n",
    "                    print(\"Converting \" + full_path)\n",
    "                    # --without-gui --export-area-drawing'\n",
    "                    absolute_path = os.path.abspath(full_path)\n",
    "                    inkscape_path = 'C:\\\\__APP__\\\\InkscapePortable\\\\InkscapePortable.exe'\n",
    "                    cmd = inkscape_path +' --export-area-page --export-type=\"pdf\"  --export-filename=\"' + absolute_path.replace(\".svg\", \".pdf\") + '\" \"' + absolute_path + '\"'\n",
    "                    print(cmd)\n",
    "                    subprocess.call(cmd, shell=True)\n",
    "\n"
   ]
  },
  {
   "cell_type": "code",
   "execution_count": 4,
   "metadata": {},
   "outputs": [
    {
     "name": "stdout",
     "output_type": "stream",
     "text": [
      "\tProcessing folder .\n",
      "\tIgnoring .\\.git\n",
      "\tProcessing folder .\\1_background\n",
      "Ignoring .\\1_background\\atom.svg\n",
      "Ignoring .\\1_background\\atom_incident_photon.svg\n",
      "Skipping .\\1_background\\Compton_scattering.svg\n",
      "Skipping .\\1_background\\MLC_sketch.svg\n",
      "Skipping .\\1_background\\MLC_sketch_bis.svg\n",
      "Skipping .\\1_background\\MLC_sketch_bis_color.svg\n",
      "Skipping .\\1_background\\pair_production.svg\n",
      "Skipping .\\1_background\\patient_path.svg\n",
      "Skipping .\\1_background\\photoelectric_absorption.svg\n",
      "Skipping .\\1_background\\Rayleigh_diffusion.svg\n",
      "Skipping .\\1_background\\_fluence_leaf_sequencing_legend.svg\n",
      "\tProcessing folder .\\2_introduction\n",
      "\tProcessing folder .\\3_dosimetry_optimization\n",
      "Skipping .\\3_dosimetry_optimization\\constraint_penalization.svg\n",
      "\tProcessing folder .\\3_dosimetry_optimization\\optimizers_comparison\n",
      "Skipping .\\3_dosimetry_optimization\\optimizers_comparison\\ICMProstate-iter.svg\n",
      "Skipping .\\3_dosimetry_optimization\\optimizers_comparison\\ICMProstate-time.svg\n",
      "Skipping .\\3_dosimetry_optimization\\optimizers_comparison\\legend.svg\n",
      "Skipping .\\3_dosimetry_optimization\\optimizers_comparison\\TGG119HN-iter.svg\n",
      "Skipping .\\3_dosimetry_optimization\\optimizers_comparison\\TGG119HN-time.svg\n",
      "Skipping .\\3_dosimetry_optimization\\optimizers_comparison\\TGG119Multi-iter.svg\n",
      "Skipping .\\3_dosimetry_optimization\\optimizers_comparison\\TGG119Multi-time.svg\n",
      "Skipping .\\3_dosimetry_optimization\\optimizers_comparison\\TGG119Prostate-iter.svg\n",
      "Skipping .\\3_dosimetry_optimization\\optimizers_comparison\\TGG119Prostate-time.svg\n",
      "Skipping .\\3_dosimetry_optimization\\parallel_heat_point.svg\n",
      "Skipping .\\3_dosimetry_optimization\\parallel_heat_point_post.svg\n",
      "Skipping .\\3_dosimetry_optimization\\parallel_heat_square.svg\n",
      "Skipping .\\3_dosimetry_optimization\\parallel_heat_square_post.svg\n",
      "Skipping .\\3_dosimetry_optimization\\parallel_organ.svg\n",
      "Skipping .\\3_dosimetry_optimization\\serial_heat_point.svg\n",
      "Skipping .\\3_dosimetry_optimization\\serial_heat_point_post.svg\n",
      "Skipping .\\3_dosimetry_optimization\\serial_heat_square.svg\n",
      "Skipping .\\3_dosimetry_optimization\\serial_heat_square_post.svg\n",
      "Skipping .\\3_dosimetry_optimization\\serial_organ.svg\n",
      "\tProcessing folder .\\3_dosimetry_optimization\\sub_figs\n",
      "Skipping .\\3_dosimetry_optimization\\sub_figs\\parallel_organ.svg\n",
      "Skipping .\\3_dosimetry_optimization\\sub_figs\\parallel_organ_alive.svg\n",
      "Skipping .\\3_dosimetry_optimization\\sub_figs\\parallel_organ_dead.svg\n",
      "Skipping .\\3_dosimetry_optimization\\sub_figs\\serial_organ.svg\n",
      "Skipping .\\3_dosimetry_optimization\\sub_figs\\serial_organ_alive.svg\n",
      "Skipping .\\3_dosimetry_optimization\\sub_figs\\serial_organ_dead.svg\n",
      "\tProcessing folder .\\4_doses_relations\n",
      "\tProcessing folder .\\4_doses_relations\\dose_clustering_figures\n",
      "Skipping .\\4_doses_relations\\dose_clustering_figures\\adjacency.svg\n",
      "Skipping .\\4_doses_relations\\dose_clustering_figures\\dvh.svg\n",
      "Skipping .\\4_doses_relations\\dose_clustering_figures\\graphical_abstract.svg\n",
      "Skipping .\\4_doses_relations\\dose_clustering_figures\\graph_circular.svg\n",
      "Skipping .\\4_doses_relations\\dose_clustering_figures\\graph_spring.svg\n",
      "\tProcessing folder .\\4_doses_relations\\dose_distances_figures\n",
      "Ignoring .\\4_doses_relations\\dose_distances_figures\\example_3d_doses-raw.svg\n",
      "Skipping .\\4_doses_relations\\dose_distances_figures\\example_3d_doses.svg\n",
      "Ignoring .\\4_doses_relations\\dose_distances_figures\\example_bixels-raw.svg\n",
      "Skipping .\\4_doses_relations\\dose_distances_figures\\example_bixels.svg\n",
      "Ignoring .\\4_doses_relations\\dose_distances_figures\\example_dvh-raw.svg\n",
      "Skipping .\\4_doses_relations\\dose_distances_figures\\example_dvh.svg\n",
      "\tProcessing folder .\\5_automation_classic\n",
      "\tProcessing folder .\\5_automation_classic\\AIME\n",
      "Skipping .\\5_automation_classic\\AIME\\architecture_all_actions.svg\n",
      "Skipping .\\5_automation_classic\\AIME\\architecture_one_action.svg\n",
      "Skipping .\\5_automation_classic\\AIME\\distance-test-w1.svg\n",
      "Skipping .\\5_automation_classic\\AIME\\distance-test-w2.svg\n",
      "Skipping .\\5_automation_classic\\AIME\\distance-test-w3.svg\n",
      "Skipping .\\5_automation_classic\\AIME\\distance-test-w4.svg\n",
      "Skipping .\\5_automation_classic\\AIME\\dvh_example.svg\n",
      "Skipping .\\5_automation_classic\\AIME\\main_slice-ct.svg\n",
      "Skipping .\\5_automation_classic\\AIME\\main_slice-dose.svg\n",
      "Skipping .\\5_automation_classic\\AIME\\reward.svg\n",
      "\tProcessing folder .\\5_automation_classic\\ASTRO\n",
      "Skipping .\\5_automation_classic\\ASTRO\\distanceA_semilogy.svg\n",
      "Skipping .\\5_automation_classic\\ASTRO\\distanceB_semilogy.svg\n",
      "Skipping .\\5_automation_classic\\ASTRO\\distanceC_semilogy.svg\n",
      "\tProcessing folder .\\6_automation_mimicking\n",
      "\tProcessing folder .\\7_conclusion\n",
      "\tProcessing folder .\\abstracts\n",
      "\tProcessing folder .\\preamble\n"
     ]
    }
   ],
   "source": [
    "do_folder(\".\")"
   ]
  }
 ],
 "metadata": {
  "kernelspec": {
   "display_name": "Python 3",
   "language": "python",
   "name": "python3"
  },
  "language_info": {
   "codemirror_mode": {
    "name": "ipython",
    "version": 3
   },
   "file_extension": ".py",
   "mimetype": "text/x-python",
   "name": "python",
   "nbconvert_exporter": "python",
   "pygments_lexer": "ipython3",
   "version": "3.11.4"
  }
 },
 "nbformat": 4,
 "nbformat_minor": 2
}
