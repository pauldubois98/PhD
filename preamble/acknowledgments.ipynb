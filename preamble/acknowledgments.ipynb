{
 "cells": [
  {
   "cell_type": "code",
   "execution_count": 1,
   "metadata": {},
   "outputs": [],
   "source": [
    "import json\n"
   ]
  },
  {
   "cell_type": "code",
   "execution_count": 2,
   "metadata": {},
   "outputs": [],
   "source": [
    "# read acknolwedgements.json\n",
    "f = open('acknowledgments.json', 'r', encoding='utf-8')\n",
    "txt = f.read()\n",
    "f.close()\n"
   ]
  },
  {
   "cell_type": "code",
   "execution_count": 3,
   "metadata": {},
   "outputs": [],
   "source": [
    "# parse json\n",
    "data = json.loads(txt)\n"
   ]
  },
  {
   "cell_type": "code",
   "execution_count": 4,
   "metadata": {},
   "outputs": [],
   "source": [
    "# sort by key\n",
    "for k in data:\n",
    "    data[k] = dict(sorted(data[k].items()))\n",
    "data = dict(sorted(data.items()))\n"
   ]
  },
  {
   "cell_type": "code",
   "execution_count": 5,
   "metadata": {},
   "outputs": [],
   "source": [
    "# write sorted json\n",
    "json_str = json.dumps(data, ensure_ascii=False, indent=2)\n",
    "f = open('acknowledgments.json', 'w', encoding='utf-8')\n",
    "f.write(json_str)\n",
    "f.close()\n"
   ]
  },
  {
   "cell_type": "code",
   "execution_count": 6,
   "metadata": {},
   "outputs": [],
   "source": [
    "# tex output\n",
    "tex = ''\n",
    "for k in data:\n",
    "    part = data[k]\n",
    "    tex += f'% {k.upper()}\\n'\n",
    "    for key in part:\n",
    "        item = part[key]\n",
    "        tex += item + '\\n\\n'\n",
    "    tex += '\\n\\n'\n"
   ]
  },
  {
   "cell_type": "code",
   "execution_count": 7,
   "metadata": {},
   "outputs": [],
   "source": [
    "# write tex file\n",
    "f = open('acknowledgments.tex', 'w', encoding='utf-8')\n",
    "f.write(tex)\n",
    "f.close()\n"
   ]
  }
 ],
 "metadata": {
  "kernelspec": {
   "display_name": "Python 3",
   "language": "python",
   "name": "python3"
  },
  "language_info": {
   "codemirror_mode": {
    "name": "ipython",
    "version": 3
   },
   "file_extension": ".py",
   "mimetype": "text/x-python",
   "name": "python",
   "nbconvert_exporter": "python",
   "pygments_lexer": "ipython3",
   "version": "3.11.4"
  }
 },
 "nbformat": 4,
 "nbformat_minor": 2
}
