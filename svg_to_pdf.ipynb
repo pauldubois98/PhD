{
 "cells": [
  {
   "cell_type": "code",
   "execution_count": null,
   "metadata": {},
   "outputs": [],
   "source": [
    "import os\n",
    "import subprocess\n"
   ]
  },
  {
   "cell_type": "code",
   "execution_count": null,
   "metadata": {},
   "outputs": [],
   "source": [
    "IGNORED_FILES = [\n",
    "    \"atom.svg\",\n",
    "    \"atom_incident_photon.svg\",\n",
    "]"
   ]
  },
  {
   "cell_type": "code",
   "execution_count": null,
   "metadata": {},
   "outputs": [],
   "source": [
    "for folder in os.listdir(\".\"):\n",
    "    if os.path.isdir(folder):\n",
    "        for file in os.listdir(folder):\n",
    "            if file.endswith(\".svg\"):\n",
    "                if os.path.exists(folder + \"/\" + file.replace(\".svg\", \".pdf\")):\n",
    "                    print(\"Skipping \" + folder + \"/\" + file)\n",
    "                elif file in IGNORED_FILES:\n",
    "                    print(\"Ignoring \" + folder + \"/\" + file)\n",
    "                else:\n",
    "                    print(\"Converting \" + folder + \"/\" + file)\n",
    "                    # --without-gui --export-area-drawing'\n",
    "                    absolute_path = os.path.abspath(folder + \"/\" + file)\n",
    "                    inkscape_path = 'C:\\\\__APP__\\\\InkscapePortable\\\\InkscapePortable.exe'\n",
    "                    cmd = inkscape_path +' --export-area-page --export-type=\"pdf\"  --export-filename=\"' + absolute_path.replace(\".svg\", \".pdf\") + '\" \"' + absolute_path + '\"'\n",
    "                    print(cmd)\n",
    "                    subprocess.call(cmd, shell=True)\n"
   ]
  }
 ],
 "metadata": {
  "kernelspec": {
   "display_name": "Python 3",
   "language": "python",
   "name": "python3"
  },
  "language_info": {
   "codemirror_mode": {
    "name": "ipython",
    "version": 3
   },
   "file_extension": ".py",
   "mimetype": "text/x-python",
   "name": "python",
   "nbconvert_exporter": "python",
   "pygments_lexer": "ipython3",
   "version": "3.11.4"
  }
 },
 "nbformat": 4,
 "nbformat_minor": 2
}
