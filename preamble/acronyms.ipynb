{
 "cells": [
  {
   "cell_type": "code",
   "execution_count": 1,
   "metadata": {},
   "outputs": [],
   "source": [
    "import json"
   ]
  },
  {
   "cell_type": "code",
   "execution_count": 2,
   "metadata": {},
   "outputs": [],
   "source": [
    "# load the acronyms from the json file\n",
    "accronyms_file = open('acronyms.json', 'r', encoding='utf-8')\n",
    "acronyms = json.load(accronyms_file)\n",
    "accronyms_file.close()"
   ]
  },
  {
   "cell_type": "code",
   "execution_count": 3,
   "metadata": {},
   "outputs": [],
   "source": [
    "# sort the dictionary by the keys\n",
    "acronyms = dict(sorted(acronyms.items()))"
   ]
  },
  {
   "cell_type": "code",
   "execution_count": 4,
   "metadata": {},
   "outputs": [],
   "source": [
    "# write the sorted dictionary to the json file\n",
    "accronyms_file = open('acronyms.json', 'w', encoding='utf-8')\n",
    "json.dump(acronyms, accronyms_file, indent=4)\n",
    "accronyms_file.close()"
   ]
  },
  {
   "cell_type": "code",
   "execution_count": 5,
   "metadata": {},
   "outputs": [],
   "source": [
    "# create the tex content\n",
    "tex_content = ''\n",
    "tex_content += '\\\\chapter*{List of acronyms}\\n\\\\begin{itemize}\\n\\t\\setlength{\\itemindent}{2cm}\\n'\n",
    "for key, value in acronyms.items():\n",
    "    tex_content += '\\t\\\\item[\\\\textbf{' + key + '}] ' + value + '\\n'\n",
    "tex_content += '\\end{itemize}'"
   ]
  },
  {
   "cell_type": "code",
   "execution_count": 6,
   "metadata": {},
   "outputs": [],
   "source": [
    "# write the tex content to the tex file\n",
    "f = open('listofacronyms.tex', 'w', encoding='utf-8')\n",
    "f.write(tex_content)\n",
    "f.close()"
   ]
  }
 ],
 "metadata": {
  "kernelspec": {
   "display_name": "Python 3",
   "language": "python",
   "name": "python3"
  },
  "language_info": {
   "codemirror_mode": {
    "name": "ipython",
    "version": 3
   },
   "file_extension": ".py",
   "mimetype": "text/x-python",
   "name": "python",
   "nbconvert_exporter": "python",
   "pygments_lexer": "ipython3",
   "version": "3.11.4"
  }
 },
 "nbformat": 4,
 "nbformat_minor": 2
}
