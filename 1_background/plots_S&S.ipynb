{
 "cells": [
  {
   "cell_type": "code",
   "execution_count": null,
   "metadata": {},
   "outputs": [],
   "source": [
    "import matplotlib.pyplot as plt\n",
    "import numpy as np\n"
   ]
  },
  {
   "cell_type": "code",
   "execution_count": null,
   "metadata": {},
   "outputs": [],
   "source": [
    "x = np.linspace(-2,2, 100)\n",
    "y = np.linspace(-2,2, 100)\n",
    "X, Y = np.meshgrid(x, y)\n",
    "\n",
    "def FLU(x, y, c):\n",
    "    return np.clip(1 - x**2 - (-y-c*x**2+c/4)**2 , 0, None)\n",
    "def flu(x, y):\n",
    "    return FLU(x, y, c=0.5)\n",
    "\n",
    "Z = flu(X, Y)\n",
    "\n",
    "LEVELS = [-0.2, 0.1, 0.45, 0.7, 0.9, 1.1]"
   ]
  },
  {
   "cell_type": "code",
   "execution_count": null,
   "metadata": {},
   "outputs": [],
   "source": [
    "plt.figure(figsize=(10, 5))\n",
    "\n",
    "plt.subplot(1, 2, 1)\n",
    "plt.imshow(Z[::-1], cmap='hot_r', interpolation='hermite', extent=(-2,2,-2,2))\n",
    "plt.xticks([])\n",
    "plt.yticks([])\n",
    "plt.title('Optimal fluence map')\n",
    "\n",
    "plt.subplot(1, 2, 2)\n",
    "plt.contour(X, Y, Z, levels=LEVELS, cmap='hot_r', linewidths=5)\n",
    "plt.xlim(-2,2)\n",
    "plt.ylim(-2,2)\n",
    "plt.gca().set_aspect('equal')\n",
    "plt.xticks([])\n",
    "plt.yticks([])\n",
    "plt.title('Level sets of fluence map')\n",
    "\n",
    "# plt.savefig('_fluence_map_discretization.pdf', bbox_inches='tight', pad_inches=0.1)\n",
    "# plt.savefig('_fluence_map_discretization.svg', bbox_inches='tight', pad_inches=0.1)\n",
    "plt.show()"
   ]
  },
  {
   "cell_type": "code",
   "execution_count": null,
   "metadata": {},
   "outputs": [],
   "source": [
    "LEAF_WIDTH = 0.25\n",
    "LEAF_LENGTH = 1.25"
   ]
  },
  {
   "cell_type": "code",
   "execution_count": null,
   "metadata": {},
   "outputs": [],
   "source": [
    "def get_leaf(direction, leaf_number, level, func, reverse=False):\n",
    "    global LEAF_WIDTH, LEAF_LENGTH\n",
    "    direction_length = np.sqrt(direction[0]**2 + direction[1]**2)\n",
    "    direction = (direction[0]/direction_length, direction[1]/direction_length)\n",
    "    x = direction[1] * LEAF_WIDTH * leaf_number\n",
    "    x0 = x\n",
    "    y = -direction[0] * LEAF_WIDTH * leaf_number\n",
    "    y0 = y\n",
    "    while x*x + y*y < 10:\n",
    "        x -= direction[0]*0.01\n",
    "        y -= direction[1]*0.01\n",
    "    dx, dy = direction\n",
    "    dx *= 0.01\n",
    "    dy *= 0.01\n",
    "    while func(x,y) < level and x*x + y*y < 100:\n",
    "        x += dx\n",
    "        y += dy\n",
    "    x -= dx\n",
    "    y -= dy\n",
    "    if x*x + y*y >= 90:\n",
    "        x = x0\n",
    "        y = y0\n",
    "    rx = x\n",
    "    ry = y\n",
    "    y = y - LEAF_WIDTH/2\n",
    "    if not reverse:\n",
    "        sx = -LEAF_LENGTH\n",
    "    else:\n",
    "        sx = LEAF_LENGTH\n",
    "    sy = LEAF_WIDTH\n",
    "    a = np.arctan2(direction[1], direction[0]) * (180/np.pi)\n",
    "    a %= 180\n",
    "    return plt.Rectangle((x, y), sx, sy, \\\n",
    "                         edgecolor='black', facecolor='grey', linewidth=2, \\\n",
    "                         rotation_point=(rx,ry), angle=a)\n"
   ]
  },
  {
   "cell_type": "code",
   "execution_count": null,
   "metadata": {},
   "outputs": [],
   "source": [
    "def get_leaf_pair(direction, leaf_number, level, func):\n",
    "    leaf1 = get_leaf(direction, leaf_number, level, func)\n",
    "    reverse_direction = (-direction[0], -direction[1])\n",
    "    leaf2 = get_leaf(reverse_direction, leaf_number, level, func, reverse=True)\n",
    "    return leaf1, leaf2"
   ]
  },
  {
   "cell_type": "code",
   "execution_count": null,
   "metadata": {},
   "outputs": [],
   "source": [
    "def plot_leaves_level(fluence_function, level, levels=None, direction=(1,0), number_leaves=5):\n",
    "    Z = fluence_function(X, Y)\n",
    "    plt.contour(X, Y, Z, levels, cmap='hot_r', linewidths=3, alpha=0.8)\n",
    "    plt.xlim(-2, 2)\n",
    "    plt.ylim(-2, 2)\n",
    "    plt.gca().set_aspect('equal')\n",
    "    plt.xticks([])\n",
    "    plt.yticks([])\n",
    "    for leaf_number in range(-number_leaves, number_leaves+1):\n",
    "        r1, r2 = get_leaf_pair(direction, leaf_number, level, fluence_function)\n",
    "        plt.gca().add_patch(r1)\n",
    "        plt.gca().add_patch(r2)"
   ]
  },
  {
   "cell_type": "code",
   "execution_count": null,
   "metadata": {},
   "outputs": [],
   "source": [
    "def plot_leaves_levels(fluence_function, direction=(1,0), number_leaves=5, levels=None, filename=None):\n",
    "    global LEVELS\n",
    "    if levels is None:\n",
    "        levels = LEVELS\n",
    "    N = len(levels)-2\n",
    "    plt.figure(figsize=(4*N, 4))\n",
    "    for i,level in enumerate(levels[1:-1]):\n",
    "        plt.subplot(1, N, i+1)\n",
    "        plot_leaves_level(fluence_function, level, levels, direction, number_leaves)\n",
    "        plt.title(f'Level set {i+1}')\n",
    "    plt.suptitle('Leaves positions')\n",
    "    if filename is not None:\n",
    "        plt.savefig(filename, bbox_inches='tight', pad_inches=0.1)\n",
    "    plt.show()\n",
    "\n",
    "plot_leaves_levels(flu, number_leaves=6)\n",
    "# plot_leaves_levels(flu, number_leaves=6, filename='_level_set_matching_with_leaves.pdf')\n",
    "# plot_leaves_levels(flu, number_leaves=6, filename='_level_set_matching_with_leaves.svg')"
   ]
  },
  {
   "cell_type": "code",
   "execution_count": null,
   "metadata": {},
   "outputs": [],
   "source": [
    "# just to show off\n",
    "plot_leaves_levels(flu, (1,2), number_leaves=6)"
   ]
  },
  {
   "cell_type": "code",
   "execution_count": null,
   "metadata": {},
   "outputs": [],
   "source": [
    "# slightly non-convex fluence map\n",
    "def flu0(x, y):\n",
    "    return FLU(x, y, c=1.6)\n"
   ]
  },
  {
   "cell_type": "code",
   "execution_count": null,
   "metadata": {},
   "outputs": [],
   "source": [
    "def plot_leaves_directions(fluence_function, directions=[(1,0), (0,1)], number_leaves=5, levels=[-2, 0.3, 2], filename=None):\n",
    "    N = len(directions)\n",
    "    plt.figure(figsize=(4*(N+1), 4))\n",
    "    plt.subplot(1, N+1, 1)\n",
    "    Z = fluence_function(X, Y)\n",
    "    plt.imshow(Z[::-1], cmap='hot_r', interpolation='hermite', extent=(-2,2,-2,2))\n",
    "    plt.xticks([])\n",
    "    plt.yticks([])\n",
    "    plt.title('Optimal fluence map')\n",
    "    level = levels[1]\n",
    "    for i,direction in enumerate(directions):\n",
    "        plt.subplot(1, N+1, i+2)\n",
    "        plot_leaves_level(fluence_function, level, levels, direction, number_leaves)\n",
    "        angle = round(np.arctan2(direction[1], direction[0]) * (180/np.pi))\n",
    "        plt.title(f'Colimator angle: {angle}°')\n",
    "    if filename is not None:\n",
    "        plt.savefig(filename, bbox_inches='tight', pad_inches=0.1)\n",
    "    plt.show()\n",
    "\n",
    "plot_leaves_directions(flu0, number_leaves=6)\n",
    "# plot_leaves_directions(flu0, number_leaves=6, filename='_leaves_angle.pdf')\n",
    "# plot_leaves_directions(flu0, number_leaves=6, filename='_leaves_angle.svg')"
   ]
  },
  {
   "cell_type": "code",
   "execution_count": null,
   "metadata": {},
   "outputs": [],
   "source": [
    "# slightly non-convex fluence map\n",
    "def flu1(x, y):\n",
    "    return flu0(x, y) + flu0(y, x)\n",
    "\n",
    "plot_leaves_directions(flu1, directions=[(1,0), (0,1), (1,1)], number_leaves=6)\n",
    "# plot_leaves_directions(flu1, directions=[(1,0), (0,1), (1,1)], number_leaves=6, filename='_leaves_angle_bis.pdf')\n",
    "# plot_leaves_directions(flu1, directions=[(1,0), (0,1), (1,1)], number_leaves=6, filename='_leaves_angle_bis.svg')"
   ]
  },
  {
   "cell_type": "code",
   "execution_count": null,
   "metadata": {},
   "outputs": [],
   "source": [
    "def flu2(x, y):\n",
    "    def dist(x1, y1, x2, y2):\n",
    "        return np.sqrt((x1-x2)**2 + (y1-y2)**2)\n",
    "    def bump(x):\n",
    "        return np.exp(-x**2)\n",
    "    c = 1.25\n",
    "    d1 = dist(x, y, -1, -np.sqrt(3)/3 -0.2)\n",
    "    d2 = dist(x, y, 1, -np.sqrt(3)/3 -0.2)\n",
    "    d3 = dist(x, y, 0, np.sqrt(3)*2/3 -0.2)\n",
    "    d4 = dist(x, y, 0, -0.2)\n",
    "    z = bump(c*d1) + bump(c*d2) + bump(c*d3) + 0.25 * bump(2*d4)\n",
    "    return z\n",
    "\n",
    "plt.figure(figsize=(15, 5) )\n",
    "Z = flu2(X, Y)\n",
    "\n",
    "plt.subplot(1, 3, 1)\n",
    "plt.imshow(Z[::-1], cmap='hot_r', interpolation='hermite', extent=(-2,2,-2,2))\n",
    "plt.xticks([])\n",
    "plt.yticks([])\n",
    "plt.title('Optimal fluence map')\n",
    "\n",
    "plt.subplot(1, 3, 2)\n",
    "plt.contour(X, Y, Z, levels=np.linspace(0, 1.25, 20), cmap='hot_r', linewidths=2)\n",
    "plt.xticks([])\n",
    "plt.yticks([])\n",
    "plt.gca().set_aspect('equal')\n",
    "plt.title('Level sets of the fluence map')\n",
    "\n",
    "plt.subplot(1, 3, 3)\n",
    "lvl = flu2(0,0)-0.01\n",
    "plt.contour(X, Y, Z, levels=[0, 0.5*lvl, lvl, 1.5*lvl, 1.25], cmap='hot_r', linewidths=5)\n",
    "plt.xticks([])\n",
    "plt.yticks([])\n",
    "plt.gca().set_aspect('equal')\n",
    "plt.title('Problematic level set of the fluence map')\n",
    "\n",
    "# plt.savefig('_fluence_map_discretization_non_convex.pdf', bbox_inches='tight', pad_inches=0.1)\n",
    "# plt.savefig('_fluence_map_discretization_non_convex.svg', bbox_inches='tight', pad_inches=0.1)\n",
    "plt.show()\n"
   ]
  },
  {
   "cell_type": "code",
   "execution_count": null,
   "metadata": {},
   "outputs": [],
   "source": [
    "LEAF_LENGTH = 2\n",
    "directions = [(1,0), (3**0.5, 1), (1,1), (1,3**0.5), (0,1)]\n",
    "plot_leaves_directions(flu2, directions, number_leaves=9, levels=[0, 0.5*lvl, 1.2])\n",
    "plot_leaves_directions(flu2, directions, number_leaves=9, levels=[0, lvl, 1.2])\n",
    "plot_leaves_directions(flu2, directions, number_leaves=9, levels=[0, 1.5*lvl, 1.2])\n",
    "\n",
    "# plot_leaves_directions(flu2, directions, number_leaves=9, levels=[0, 0.5*lvl, 1.2], filename='_leaves_angle_ter0.pdf')\n",
    "# plot_leaves_directions(flu2, directions, number_leaves=9, levels=[0, lvl, 1.2], filename='_leaves_angle_ter.pdf')\n",
    "# plot_leaves_directions(flu2, directions, number_leaves=9, levels=[0, 1.5*lvl, 1.2], filename='_leaves_angle_ter2.pdf')\n",
    "\n",
    "# plot_leaves_directions(flu2, directions, number_leaves=9, levels=[0, 0.5*lvl, 1.2], filename='_leaves_angle_ter0.svg')\n",
    "# plot_leaves_directions(flu2, directions, number_leaves=9, levels=[0, lvl, 1.2], filename='_leaves_angle_ter.svg')\n",
    "# plot_leaves_directions(flu2, directions, number_leaves=9, levels=[0, 1.5*lvl, 1.2], filename='_leaves_angle_ter2.svg')"
   ]
  }
 ],
 "metadata": {
  "kernelspec": {
   "display_name": "Python 3",
   "language": "python",
   "name": "python3"
  },
  "language_info": {
   "codemirror_mode": {
    "name": "ipython",
    "version": 3
   },
   "file_extension": ".py",
   "mimetype": "text/x-python",
   "name": "python",
   "nbconvert_exporter": "python",
   "pygments_lexer": "ipython3",
   "version": "3.11.4"
  }
 },
 "nbformat": 4,
 "nbformat_minor": 2
}
