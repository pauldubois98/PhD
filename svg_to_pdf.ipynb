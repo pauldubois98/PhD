{
 "cells": [
  {
   "cell_type": "code",
   "execution_count": 1,
   "metadata": {},
   "outputs": [],
   "source": [
    "import os\n",
    "import subprocess\n"
   ]
  },
  {
   "cell_type": "code",
   "execution_count": 2,
   "metadata": {},
   "outputs": [],
   "source": [
    "IGNORED_FILES = [\n",
    "    \"atom.svg\",\n",
    "    \"atom_incident_photon.svg\",\n",
    "]"
   ]
  },
  {
   "cell_type": "code",
   "execution_count": 3,
   "metadata": {},
   "outputs": [],
   "source": [
    "def do_folder(folder):\n",
    "    print(\"\\tProcessing folder \" + folder)\n",
    "    for file in os.listdir(folder):\n",
    "        full_path = os.path.join(folder, file)\n",
    "        if os.path.isdir(full_path):\n",
    "           do_folder(os.path.join(full_path))\n",
    "        else:\n",
    "            if file.endswith(\".svg\"):\n",
    "                if os.path.exists(full_path.replace(\".svg\", \".pdf\")):\n",
    "                    print(\"Skipping \" + full_path)\n",
    "                elif file in IGNORED_FILES:\n",
    "                    print(\"Ignoring \" + full_path)\n",
    "                else:\n",
    "                    print(\"Converting \" + full_path)\n",
    "                    # --without-gui --export-area-drawing'\n",
    "                    absolute_path = os.path.abspath(full_path)\n",
    "                    inkscape_path = 'C:\\\\__APP__\\\\InkscapePortable\\\\InkscapePortable.exe'\n",
    "                    cmd = inkscape_path +' --export-area-page --export-type=\"pdf\"  --export-filename=\"' + absolute_path.replace(\".svg\", \".pdf\") + '\" \"' + absolute_path + '\"'\n",
    "                    print(cmd)\n",
    "                    subprocess.call(cmd, shell=True)\n",
    "\n"
   ]
  },
  {
   "cell_type": "code",
   "execution_count": null,
   "metadata": {},
   "outputs": [],
   "source": [
    "do_folder(\".\")"
   ]
  }
 ],
 "metadata": {
  "kernelspec": {
   "display_name": "Python 3",
   "language": "python",
   "name": "python3"
  },
  "language_info": {
   "codemirror_mode": {
    "name": "ipython",
    "version": 3
   },
   "file_extension": ".py",
   "mimetype": "text/x-python",
   "name": "python",
   "nbconvert_exporter": "python",
   "pygments_lexer": "ipython3",
   "version": "3.11.4"
  }
 },
 "nbformat": 4,
 "nbformat_minor": 2
}
