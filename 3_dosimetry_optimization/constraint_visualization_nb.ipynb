{
 "cells": [
  {
   "cell_type": "code",
   "execution_count": 1,
   "metadata": {},
   "outputs": [],
   "source": [
    "import numpy as np\n",
    "import matplotlib.pyplot as plt\n",
    "from scipy.interpolate import make_interp_spline\n"
   ]
  },
  {
   "cell_type": "code",
   "execution_count": 10,
   "metadata": {},
   "outputs": [],
   "source": [
    "# fake data\n",
    "d = np.array([0, 5, 10, 20, 22, 23, 25, 26, 28, 29, 30])\n",
    "v = 100-100*np.arange(len(d))/(len(d)-1)\n",
    "# smooth curve\n",
    "d_smooth = np.linspace(d.min(), d.max(), 100)\n",
    "spl = make_interp_spline(d, v, k=3)\n",
    "v_smooth = spl(d_smooth)\n"
   ]
  }
 ],
 "metadata": {
  "kernelspec": {
   "display_name": "Python 3",
   "language": "python",
   "name": "python3"
  },
  "language_info": {
   "codemirror_mode": {
    "name": "ipython",
    "version": 3
   },
   "file_extension": ".py",
   "mimetype": "text/x-python",
   "name": "python",
   "nbconvert_exporter": "python",
   "pygments_lexer": "ipython3",
   "version": "3.11.4"
  }
 },
 "nbformat": 4,
 "nbformat_minor": 2
}
