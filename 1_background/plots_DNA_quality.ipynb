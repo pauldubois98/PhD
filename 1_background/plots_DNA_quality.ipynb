{
 "cells": [
  {
   "cell_type": "code",
   "execution_count": null,
   "metadata": {},
   "outputs": [],
   "source": [
    "import matplotlib.pyplot as plt\n",
    "import matplotlib as mpl\n",
    "import numpy as np\n",
    "from mpl_toolkits.axisartist.axislines import AxesZero\n"
   ]
  },
  {
   "cell_type": "code",
   "execution_count": null,
   "metadata": {},
   "outputs": [],
   "source": [
    "N = 200\n",
    "RAND = 0.003\n",
    "NB = 5\n",
    "TMAX = 2 * NB\n",
    "time = np.linspace(0, TMAX, N)\n",
    "def irradiation_normal(x, t, factor=0.4):\n",
    "    return -factor*(np.exp(-x+t).clip(0,1) + np.sign(x-t)*0.5 - 0.5)\n",
    "\n",
    "def irradiation_cancer(x, t, factor=0.4):\n",
    "    return -factor*(np.sign(x-t)*0.5 - 0.5)\n",
    "\n",
    "irradiation_factors = [0.4, 0.3, 0.2, 0.1]\n",
    "irradiation_factors = [0.2] * NB\n",
    "irradiation_times = [0.5 + 2*i for i in range(NB)]\n",
    "normal_cell = 1 + RAND*np.random.randn(N)\n",
    "cancer_cell = -0.01 + RAND*np.random.randn(N)\n",
    "for t, factor in zip(irradiation_times, irradiation_factors):\n",
    "    normal_cell += irradiation_normal(time, t, factor)\n",
    "    cancer_cell += irradiation_cancer(time, t-0.05, factor)\n",
    "normal_cell = normal_cell.clip(0.005, 1.005)\n",
    "cancer_cell = cancer_cell.clip(0.005, 1.005)\n",
    "\n",
    "# plot configuration\n",
    "plt.figure(figsize=(10,5)).add_subplot(axes_class=AxesZero)\n",
    "# render axis lines\n",
    "plt.gca().axis[\"xzero\"].set_visible(True)\n",
    "plt.gca().axis[\"yzero\"].set_visible(True)\n",
    "# arrow style\n",
    "plt.gca().axis[\"xzero\"].set_axisline_style(\"-|>\")\n",
    "plt.gca().axis[\"yzero\"].set_axisline_style(\"-|>\")\n",
    "# do not draw frame\n",
    "plt.gca().axis[\"top\"].set_visible(False)\n",
    "plt.gca().axis[\"bottom\"].set_visible(False)\n",
    "plt.gca().axis[\"right\"].set_visible(False)\n",
    "plt.gca().axis[\"left\"].set_visible(False)\n",
    "\n",
    "# plot irradiation times as vertical lines\n",
    "for t in irradiation_times:\n",
    "    plt.gca().axvline(t, color='k', linestyle='--', alpha=0.5)\n",
    "# plot DNA quality\n",
    "plt.plot(time, normal_cell, color='green', label='Healthy cell')\n",
    "plt.plot(time, cancer_cell, color='red', label='Tumor cell')\n",
    "plt.legend(loc='center right')\n",
    "plt.xlim(0, None)\n",
    "plt.xlabel('Time')\n",
    "plt.xticks(irradiation_times, [f'Session {i+1}' for i in range(len(irradiation_times))])\n",
    "plt.ylim(-0.01, 1.01)\n",
    "plt.ylabel('DNA Quality')\n",
    "plt.yticks([0, 0.25, 0.5, 0.75, 1], ['0', '1/4', '1/2', '3/4', '1'])\n",
    "# plt.title('DNA Quality over Time')\n",
    "\n",
    "# plt.savefig('_dna_quality.pdf', bbox_inches='tight', pad_inches=0.1)\n",
    "# plt.savefig('_dna_quality.svg', bbox_inches='tight', pad_inches=0.1)\n",
    "plt.show()"
   ]
  }
 ],
 "metadata": {
  "kernelspec": {
   "display_name": "Python 3",
   "language": "python",
   "name": "python3"
  },
  "language_info": {
   "codemirror_mode": {
    "name": "ipython",
    "version": 3
   },
   "file_extension": ".py",
   "mimetype": "text/x-python",
   "name": "python",
   "nbconvert_exporter": "python",
   "pygments_lexer": "ipython3",
   "version": "3.11.4"
  }
 },
 "nbformat": 4,
 "nbformat_minor": 2
}
